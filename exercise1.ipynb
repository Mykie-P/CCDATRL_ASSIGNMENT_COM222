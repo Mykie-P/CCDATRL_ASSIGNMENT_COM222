{
  "cells": [
    {
      "cell_type": "markdown",
      "metadata": {
        "id": "view-in-github",
        "colab_type": "text"
      },
      "source": [
        "<a href=\"https://colab.research.google.com/github/Mykie-P/CCDATRL_ASSIGNMENT_COM222/blob/main/exercise1.ipynb\" target=\"_parent\"><img src=\"https://colab.research.google.com/assets/colab-badge.svg\" alt=\"Open In Colab\"/></a>"
      ]
    },
    {
      "cell_type": "markdown",
      "metadata": {
        "id": "h2vFiYhGzZOg"
      },
      "source": [
        "# Exercise 1"
      ]
    },
    {
      "cell_type": "markdown",
      "source": [
        "## Class Initialization"
      ],
      "metadata": {
        "id": "sRm6kPQozcaU"
      }
    },
    {
      "cell_type": "code",
      "execution_count": 113,
      "metadata": {
        "id": "b1u4Dt9mzZOi"
      },
      "outputs": [],
      "source": [
        "class Node:\n",
        "    def __init__(self, data):\n",
        "        self.data = data\n",
        "        self.next = None\n",
        "        self.prev = None"
      ]
    },
    {
      "cell_type": "code",
      "execution_count": 114,
      "metadata": {
        "id": "tigvHSaHzZOj"
      },
      "outputs": [],
      "source": [
        "class SinglyLinkedList:\n",
        "\n",
        "    def __init__(self):\n",
        "        self.head = None\n",
        "\n",
        "    def traverse(self, node):\n",
        "        while node:\n",
        "            print(node.data, end = \" -> \")\n",
        "            node = node.next"
      ]
    },
    {
      "cell_type": "code",
      "execution_count": 115,
      "metadata": {
        "id": "LIkQBioVzZOk"
      },
      "outputs": [],
      "source": [
        "class DoublyNode:\n",
        "    def __init__(self, data):\n",
        "        self.data = data\n",
        "        self.next = None\n",
        "        self.prev = None\n",
        "\n",
        "class DoublyLinkedList:\n",
        "\n",
        "    def __init__(self):\n",
        "        self.head = None\n",
        "\n",
        "    def traverse_forward(self, node):\n",
        "        current = node\n",
        "        while current:\n",
        "            print(current.data, end = \" -> \")\n",
        "            current = current.next\n",
        "\n",
        "    def traverse_backward(self, node):\n",
        "        current = node\n",
        "        while current:\n",
        "            print(current.data, end = \" -> \")\n",
        "            current = current.prev"
      ]
    },
    {
      "cell_type": "code",
      "execution_count": 116,
      "metadata": {
        "id": "zlxNT5EozZOl"
      },
      "outputs": [],
      "source": [
        "class CircularLinkedList:\n",
        "\n",
        "    def __init__(self):\n",
        "        self.head = None\n",
        "\n",
        "    def traverse(self):\n",
        "        if not self.head:\n",
        "            return\n",
        "\n",
        "        current = self.head\n",
        "        while True:\n",
        "            print(current.data, end = \" -> \")\n",
        "            current = current.next\n",
        "\n",
        "            if current == self.head:\n",
        "                break\n",
        "\n",
        "    def change_head(self, new_head):\n",
        "        self.head = new_head"
      ]
    },
    {
      "cell_type": "markdown",
      "metadata": {
        "id": "O68-Q1-bzZOl"
      },
      "source": [
        "#### 1. Create a Singly Linked list\n",
        "\n",
        "- Each node should contain your name and your seatmates in your row\n",
        "- Create at least 5 nodes\n",
        "- Traverse all nodes"
      ]
    },
    {
      "cell_type": "code",
      "execution_count": 117,
      "metadata": {
        "id": "pTcx_OuPzZOl",
        "colab": {
          "base_uri": "https://localhost:8080/"
        },
        "outputId": "54a2167f-300f-41f2-fa62-dd6067cdb7d8"
      },
      "outputs": [
        {
          "output_type": "stream",
          "name": "stdout",
          "text": [
            "Mykie -> Allen -> Iarah -> Dheniel -> Nathan -> "
          ]
        }
      ],
      "source": [
        "singly_linked_list = SinglyLinkedList()\n",
        "\n",
        "names_singly = [\"Mykie\", \"Allen\", \"Iarah\", \"Dheniel\", \"Nathan\"]\n",
        "\n",
        "singly_nodes = [Node(name) for name in names_singly]\n",
        "\n",
        "# Linking nodes\n",
        "for i in range(len(singly_nodes) - 1):\n",
        "    singly_nodes[i].next = singly_nodes[i + 1]\n",
        "\n",
        "singly_linked_list.head = singly_nodes[0]\n",
        "\n",
        "# Traversing\n",
        "singly_linked_list.traverse(singly_linked_list.head)"
      ]
    },
    {
      "cell_type": "markdown",
      "metadata": {
        "id": "IFgwbdw_zZOm"
      },
      "source": [
        "#### 2. Create a Doubly Linked list\n",
        "\n",
        "- Each node should contain your name and your seatmates in your row\n",
        "- Create at least 5 nodes\n",
        "- Traverse all nodes"
      ]
    },
    {
      "cell_type": "code",
      "execution_count": 118,
      "metadata": {
        "id": "8kQD2A_QzZOm",
        "colab": {
          "base_uri": "https://localhost:8080/"
        },
        "outputId": "9f9eb1d7-0be2-4ca7-d051-12f50af52015"
      },
      "outputs": [
        {
          "output_type": "stream",
          "name": "stdout",
          "text": [
            "Forward:\n",
            "Mykie -> Allen -> Iarah -> Dheniel -> Nathan -> \n",
            "\n",
            "Backward:\n",
            "Nathan -> Dheniel -> Iarah -> Allen -> Mykie -> "
          ]
        }
      ],
      "source": [
        "doubly_linked_list = DoublyLinkedList()\n",
        "\n",
        "names_doubly = [\"Mykie\", \"Allen\", \"Iarah\", \"Dheniel\", \"Nathan\"]\n",
        "\n",
        "doubly_nodes = [DoublyNode(name) for name in names_doubly]\n",
        "\n",
        "# Linking nodes\n",
        "for i in range(len(doubly_nodes) - 1):\n",
        "    doubly_nodes[i].next = doubly_nodes[i + 1]\n",
        "    if i > 0:\n",
        "        doubly_nodes[i].prev = doubly_nodes[i - 1]\n",
        "doubly_nodes[-1].prev = doubly_nodes[-2]\n",
        "\n",
        "doubly_linked_list.head = doubly_nodes[0]\n",
        "\n",
        "# Traversing forward\n",
        "print(\"Forward:\")\n",
        "doubly_linked_list.traverse_forward(doubly_nodes[0])\n",
        "\n",
        "# Traversing backward\n",
        "print(\"\\n\\nBackward:\")\n",
        "doubly_linked_list.traverse_backward(doubly_nodes[-1])"
      ]
    },
    {
      "cell_type": "markdown",
      "metadata": {
        "id": "rtApbsCjzZOm"
      },
      "source": [
        "#### 3. Create a Circular Linked list\n",
        "\n",
        "- Each node should contain your name and your seatmates in your row\n",
        "- Create at least 5 nodes\n",
        "- Traverse all nodes"
      ]
    },
    {
      "cell_type": "code",
      "execution_count": 120,
      "metadata": {
        "id": "Gp1Oiq0jzZOn",
        "colab": {
          "base_uri": "https://localhost:8080/"
        },
        "outputId": "e8eb3473-7732-447c-ec0e-bd4635e63dbd"
      },
      "outputs": [
        {
          "output_type": "stream",
          "name": "stdout",
          "text": [
            "Mykie -> Allen -> Iarah -> Dheniel -> Nathan -> \n",
            "\n",
            "Changing the head:\n",
            "Iarah -> Dheniel -> Nathan -> Mykie -> Allen -> "
          ]
        }
      ],
      "source": [
        "circular_linked_list = CircularLinkedList()\n",
        "\n",
        "names_circular = [\"Mykie\", \"Allen\", \"Iarah\", \"Dheniel\", \"Nathan\"]\n",
        "\n",
        "circular_nodes = [Node(name) for name in names_circular]\n",
        "\n",
        "# Linking nodes\n",
        "for i in range(len(circular_nodes) - 1):\n",
        "    circular_nodes[i].next = circular_nodes[i + 1]\n",
        "circular_nodes[-1].next = circular_nodes[0]\n",
        "\n",
        "circular_linked_list.head = circular_nodes[0]\n",
        "\n",
        "# Traversing\n",
        "circular_linked_list.traverse()\n",
        "print()\n",
        "\n",
        "# Changing the head\n",
        "new_head = circular_nodes[2]\n",
        "circular_linked_list.change_head(new_head)\n",
        "\n",
        "# Traversing\n",
        "print(\"\\nChanging the head:\")\n",
        "circular_linked_list.traverse()"
      ]
    }
  ],
  "metadata": {
    "kernelspec": {
      "display_name": "Python 3",
      "language": "python",
      "name": "python3"
    },
    "language_info": {
      "name": "python",
      "version": "3.11.4"
    },
    "orig_nbformat": 4,
    "colab": {
      "provenance": [],
      "include_colab_link": true
    }
  },
  "nbformat": 4,
  "nbformat_minor": 0
}