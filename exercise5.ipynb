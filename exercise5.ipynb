{
  "cells": [
    {
      "cell_type": "markdown",
      "metadata": {
        "id": "view-in-github",
        "colab_type": "text"
      },
      "source": [
        "<a href=\"https://colab.research.google.com/github/Mykie-P/CCDATRL_ASSIGNMENT_COM222/blob/main/exercise5.ipynb\" target=\"_parent\"><img src=\"https://colab.research.google.com/assets/colab-badge.svg\" alt=\"Open In Colab\"/></a>"
      ]
    },
    {
      "cell_type": "markdown",
      "metadata": {
        "id": "DN15rkKvhGBr"
      },
      "source": [
        "# Exercise 5"
      ]
    },
    {
      "cell_type": "markdown",
      "metadata": {
        "id": "oEys_5t7hGBt"
      },
      "source": [
        "#### 1. Create a dictionary of your 10 favorite songs."
      ]
    },
    {
      "cell_type": "markdown",
      "metadata": {
        "id": "T1iOtzXshGBu"
      },
      "source": [
        "Example:\n",
        "\n",
        "|KEY|VALUE|\n",
        "|---|---|\n",
        "|001|My Love|\n",
        "|002|Like a rose|"
      ]
    },
    {
      "cell_type": "code",
      "execution_count": 43,
      "metadata": {
        "id": "dprOhMRchGBu"
      },
      "outputs": [],
      "source": [
        "# put your answer here\n",
        "\n",
        "favorite_songs = {\n",
        "    \"Tokyo Ghetto\": \"J-Pop\",\n",
        "    \"Inochi no Tabekata\": \"J-Pop\",\n",
        "    \"Yoru ni Kakeru\": \"J-Pop\",\n",
        "    \"Snooze\": \"Electronic\",\n",
        "    \"Pahintulot\": \"OPM\",\n",
        "    \"Key - bring it on, my Destiny\": \"J-Rock\",\n",
        "    \"Ignorance\": \"Dubstep\",\n",
        "    \"Move Mountains\": \"R&B\",\n",
        "    \"Conqueror\": \"Metal\",\n",
        "    \"La Campanella\": \"Classical\"\n",
        "}"
      ]
    },
    {
      "cell_type": "markdown",
      "metadata": {
        "id": "g1FstA7XhGBv"
      },
      "source": [
        "#### 2. Loop through the dictionary by its **key** and **value**"
      ]
    },
    {
      "cell_type": "code",
      "execution_count": 44,
      "metadata": {
        "id": "QgyUTiuHhGBv",
        "colab": {
          "base_uri": "https://localhost:8080/"
        },
        "outputId": "5102cf09-bdf6-41c6-bb4f-10756177488c"
      },
      "outputs": [
        {
          "output_type": "stream",
          "name": "stdout",
          "text": [
            "Song: Tokyo Ghetto, Genre: J-Pop\n",
            "Song: Inochi no Tabekata, Genre: J-Pop\n",
            "Song: Yoru ni Kakeru, Genre: J-Pop\n",
            "Song: Snooze, Genre: Electronic\n",
            "Song: Pahintulot, Genre: OPM\n",
            "Song: Key - bring it on, my Destiny, Genre: J-Rock\n",
            "Song: Ignorance, Genre: Dubstep\n",
            "Song: Move Mountains, Genre: R&B\n",
            "Song: Conqueror, Genre: Metal\n",
            "Song: La Campanella, Genre: Classical\n"
          ]
        }
      ],
      "source": [
        "# put your answer here\n",
        "\n",
        "for song, genre in favorite_songs.items():\n",
        "    print(f\"Song: {song}, Genre: {genre}\")"
      ]
    },
    {
      "cell_type": "markdown",
      "metadata": {
        "id": "h5N_w8-yhGBw"
      },
      "source": [
        "#### 3. Add one additional song"
      ]
    },
    {
      "cell_type": "code",
      "execution_count": 45,
      "metadata": {
        "id": "oUXMAJWEhGBw",
        "colab": {
          "base_uri": "https://localhost:8080/"
        },
        "outputId": "05e767bf-1007-4cc4-cb77-8659f9299e10"
      },
      "outputs": [
        {
          "output_type": "stream",
          "name": "stdout",
          "text": [
            "{'Tokyo Ghetto': 'J-Pop', 'Inochi no Tabekata': 'J-Pop', 'Yoru ni Kakeru': 'J-Pop', 'Snooze': 'Electronic', 'Pahintulot': 'OPM', 'Key - bring it on, my Destiny': 'J-Rock', 'Ignorance': 'Dubstep', 'Move Mountains': 'R&B', 'Conqueror': 'Metal', 'La Campanella': 'Classical', 'Mortal Reminder': 'Metal'}\n"
          ]
        }
      ],
      "source": [
        "# put your answer here\n",
        "\n",
        "favorite_songs[\"Mortal Reminder\"] = \"Metal\"\n",
        "\n",
        "print(favorite_songs)"
      ]
    },
    {
      "cell_type": "markdown",
      "metadata": {
        "id": "7OlW5r9dhGBx"
      },
      "source": [
        "#### 4. Remove one song"
      ]
    },
    {
      "cell_type": "code",
      "execution_count": 46,
      "metadata": {
        "id": "g39mqwpDhGBx",
        "colab": {
          "base_uri": "https://localhost:8080/"
        },
        "outputId": "c2cbe807-607b-4754-b3e4-d4f41663cb6c"
      },
      "outputs": [
        {
          "output_type": "stream",
          "name": "stdout",
          "text": [
            "{'Tokyo Ghetto': 'J-Pop', 'Inochi no Tabekata': 'J-Pop', 'Yoru ni Kakeru': 'J-Pop', 'Pahintulot': 'OPM', 'Key - bring it on, my Destiny': 'J-Rock', 'Ignorance': 'Dubstep', 'Move Mountains': 'R&B', 'Conqueror': 'Metal', 'La Campanella': 'Classical', 'Mortal Reminder': 'Metal'}\n"
          ]
        }
      ],
      "source": [
        "# put your answer here\n",
        "\n",
        "del favorite_songs[\"Snooze\"]\n",
        "\n",
        "print(favorite_songs)"
      ]
    },
    {
      "cell_type": "markdown",
      "metadata": {
        "id": "gZ8Sr1bzhGBy"
      },
      "source": [
        "#### 5. Create a nested dictionary of your 10 favorite songs with 5 genres. Display all of the items of the nested dictionary\n",
        "\n",
        "- Each nested dictionary's key should be the genre of the song\n",
        "- Put each song in their respective genre"
      ]
    },
    {
      "cell_type": "markdown",
      "metadata": {
        "id": "US1ZaaSJhGBy"
      },
      "source": [
        "Example:\n",
        "\n",
        "\n",
        "|KEY|VALUE|\n",
        "|---|---|\n",
        "|Pop|{001, Baby}|\n",
        "|Rock|{001, Enter Sandman}|"
      ]
    },
    {
      "cell_type": "code",
      "execution_count": 47,
      "metadata": {
        "id": "z577KULkhGBz",
        "colab": {
          "base_uri": "https://localhost:8080/"
        },
        "outputId": "ebdaba93-5130-4b81-8673-4a50e63eb6f4"
      },
      "outputs": [
        {
          "output_type": "stream",
          "name": "stdout",
          "text": [
            "Genre: Pop, Songs: Sariling Multo, Pahintulot\n",
            "Genre: J-Pop, Songs: Inochi no Tabekata, Yoru ni Kakeru, Tokyo Ghetto, Key - bring it on, my Destiny\n",
            "Genre: Electronic, Songs: Snooze\n",
            "Genre: Metal, Songs: Conqueror\n",
            "Genre: Dubstep, Songs: Ignorance\n"
          ]
        }
      ],
      "source": [
        "# put your answer here\n",
        "\n",
        "nested_favorite_songs = {\n",
        "    \"Pop\": {\"Pahintulot\",  \"Sariling Multo\"},\n",
        "    \"J-Pop\": {\"Key - bring it on, my Destiny\", \"Tokyo Ghetto\", \"Inochi no Tabekata\", \"Yoru ni Kakeru\"},\n",
        "    \"Electronic\": {\"Snooze\"},\n",
        "    \"Metal\": {\"Conqueror\"},\n",
        "    \"Dubstep\": {\"Ignorance\"},\n",
        "}\n",
        "\n",
        "for genre, songs in nested_favorite_songs.items():\n",
        "    print(f\"Genre: {genre}, Songs: {', '.join(songs)}\")"
      ]
    },
    {
      "cell_type": "markdown",
      "metadata": {
        "id": "ZMgltzOkhGBz"
      },
      "source": [
        "#### 6. Print the first song of the first genre"
      ]
    },
    {
      "cell_type": "code",
      "execution_count": 48,
      "metadata": {
        "id": "nmXUGoNWhGBz",
        "colab": {
          "base_uri": "https://localhost:8080/"
        },
        "outputId": "51e6dc29-70bd-41a7-9211-9b914e2e4d59"
      },
      "outputs": [
        {
          "output_type": "stream",
          "name": "stdout",
          "text": [
            "First Song of the First Genre: Sariling Multo\n"
          ]
        }
      ],
      "source": [
        "# put your answer here\n",
        "\n",
        "first_genre = list(nested_favorite_songs.keys())[0]\n",
        "first_song_first_genre = list(nested_favorite_songs[first_genre])[0]\n",
        "print(f\"First Song of the First Genre: {first_song_first_genre}\")"
      ]
    },
    {
      "cell_type": "markdown",
      "metadata": {
        "id": "dEcgwp_ihGB0"
      },
      "source": [
        "#### 7. Print the first song of the last genre"
      ]
    },
    {
      "cell_type": "code",
      "execution_count": 49,
      "metadata": {
        "id": "ITbuWq2UhGB0",
        "colab": {
          "base_uri": "https://localhost:8080/"
        },
        "outputId": "4e207c8d-c1a6-476d-f6cc-03e5c050c11b"
      },
      "outputs": [
        {
          "output_type": "stream",
          "name": "stdout",
          "text": [
            "First Song of the Last Genre: Ignorance\n"
          ]
        }
      ],
      "source": [
        "# put your answer here\n",
        "\n",
        "last_genre = list(nested_favorite_songs.keys())[-1]\n",
        "first_song_last_genre = list(nested_favorite_songs[last_genre])[0]\n",
        "print(f\"First Song of the Last Genre: {first_song_last_genre}\")"
      ]
    }
  ],
  "metadata": {
    "kernelspec": {
      "display_name": "Python 3",
      "language": "python",
      "name": "python3"
    },
    "language_info": {
      "codemirror_mode": {
        "name": "ipython",
        "version": 3
      },
      "file_extension": ".py",
      "mimetype": "text/x-python",
      "name": "python",
      "nbconvert_exporter": "python",
      "pygments_lexer": "ipython3",
      "version": "3.11.4"
    },
    "orig_nbformat": 4,
    "colab": {
      "provenance": [],
      "include_colab_link": true
    }
  },
  "nbformat": 4,
  "nbformat_minor": 0
}